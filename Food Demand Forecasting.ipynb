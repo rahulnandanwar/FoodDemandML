{
 "cells": [
  {
   "cell_type": "markdown",
   "metadata": {},
   "source": [
    "# Food Demand Model"
   ]
  },
  {
   "cell_type": "code",
   "execution_count": 48,
   "metadata": {},
   "outputs": [],
   "source": [
    "# Import modules \n",
    "import pandas as pd\n",
    "import numpy as np\n",
    "import matplotlib.pyplot as plt\n",
    "%matplotlib inline\n",
    "import pickle as pk\n",
    "import seaborn as sns\n",
    "\n",
    "#from imblearn.over_sampling import SMOTE                   #Import when unbalanced data\n",
    "from sklearn.preprocessing import StandardScaler\n",
    "from sklearn.model_selection import train_test_split"
   ]
  },
  {
   "cell_type": "code",
   "execution_count": 50,
   "metadata": {},
   "outputs": [],
   "source": [
    "# import food dataset\n",
    "train = pd.read_csv(\"Food_train.csv\")\n",
    "test = pd.read_csv(\"FoodTest.csv\")"
   ]
  },
  {
   "cell_type": "code",
   "execution_count": 51,
   "metadata": {},
   "outputs": [
    {
     "data": {
      "text/html": [
       "<div>\n",
       "<style scoped>\n",
       "    .dataframe tbody tr th:only-of-type {\n",
       "        vertical-align: middle;\n",
       "    }\n",
       "\n",
       "    .dataframe tbody tr th {\n",
       "        vertical-align: top;\n",
       "    }\n",
       "\n",
       "    .dataframe thead th {\n",
       "        text-align: right;\n",
       "    }\n",
       "</style>\n",
       "<table border=\"1\" class=\"dataframe\">\n",
       "  <thead>\n",
       "    <tr style=\"text-align: right;\">\n",
       "      <th></th>\n",
       "      <th>id</th>\n",
       "      <th>week</th>\n",
       "      <th>center_id</th>\n",
       "      <th>meal_id</th>\n",
       "      <th>checkout_price</th>\n",
       "      <th>base_price</th>\n",
       "      <th>emailer_for_promotion</th>\n",
       "      <th>homepage_featured</th>\n",
       "      <th>num_orders</th>\n",
       "    </tr>\n",
       "  </thead>\n",
       "  <tbody>\n",
       "    <tr>\n",
       "      <th>0</th>\n",
       "      <td>1379560</td>\n",
       "      <td>1</td>\n",
       "      <td>55</td>\n",
       "      <td>1885</td>\n",
       "      <td>136.83</td>\n",
       "      <td>152.29</td>\n",
       "      <td>0</td>\n",
       "      <td>0</td>\n",
       "      <td>177</td>\n",
       "    </tr>\n",
       "    <tr>\n",
       "      <th>1</th>\n",
       "      <td>1466964</td>\n",
       "      <td>1</td>\n",
       "      <td>55</td>\n",
       "      <td>1993</td>\n",
       "      <td>136.83</td>\n",
       "      <td>135.83</td>\n",
       "      <td>0</td>\n",
       "      <td>0</td>\n",
       "      <td>270</td>\n",
       "    </tr>\n",
       "    <tr>\n",
       "      <th>2</th>\n",
       "      <td>1346989</td>\n",
       "      <td>1</td>\n",
       "      <td>55</td>\n",
       "      <td>2539</td>\n",
       "      <td>134.86</td>\n",
       "      <td>135.86</td>\n",
       "      <td>0</td>\n",
       "      <td>0</td>\n",
       "      <td>189</td>\n",
       "    </tr>\n",
       "    <tr>\n",
       "      <th>3</th>\n",
       "      <td>1338232</td>\n",
       "      <td>1</td>\n",
       "      <td>55</td>\n",
       "      <td>2139</td>\n",
       "      <td>339.50</td>\n",
       "      <td>437.53</td>\n",
       "      <td>0</td>\n",
       "      <td>0</td>\n",
       "      <td>54</td>\n",
       "    </tr>\n",
       "    <tr>\n",
       "      <th>4</th>\n",
       "      <td>1448490</td>\n",
       "      <td>1</td>\n",
       "      <td>55</td>\n",
       "      <td>2631</td>\n",
       "      <td>243.50</td>\n",
       "      <td>242.50</td>\n",
       "      <td>0</td>\n",
       "      <td>0</td>\n",
       "      <td>40</td>\n",
       "    </tr>\n",
       "  </tbody>\n",
       "</table>\n",
       "</div>"
      ],
      "text/plain": [
       "        id  week  center_id  meal_id  checkout_price  base_price  \\\n",
       "0  1379560     1         55     1885          136.83      152.29   \n",
       "1  1466964     1         55     1993          136.83      135.83   \n",
       "2  1346989     1         55     2539          134.86      135.86   \n",
       "3  1338232     1         55     2139          339.50      437.53   \n",
       "4  1448490     1         55     2631          243.50      242.50   \n",
       "\n",
       "   emailer_for_promotion  homepage_featured  num_orders  \n",
       "0                      0                  0         177  \n",
       "1                      0                  0         270  \n",
       "2                      0                  0         189  \n",
       "3                      0                  0          54  \n",
       "4                      0                  0          40  "
      ]
     },
     "execution_count": 51,
     "metadata": {},
     "output_type": "execute_result"
    }
   ],
   "source": [
    "train.head()"
   ]
  },
  {
   "cell_type": "code",
   "execution_count": 52,
   "metadata": {},
   "outputs": [
    {
     "data": {
      "text/html": [
       "<div>\n",
       "<style scoped>\n",
       "    .dataframe tbody tr th:only-of-type {\n",
       "        vertical-align: middle;\n",
       "    }\n",
       "\n",
       "    .dataframe tbody tr th {\n",
       "        vertical-align: top;\n",
       "    }\n",
       "\n",
       "    .dataframe thead th {\n",
       "        text-align: right;\n",
       "    }\n",
       "</style>\n",
       "<table border=\"1\" class=\"dataframe\">\n",
       "  <thead>\n",
       "    <tr style=\"text-align: right;\">\n",
       "      <th></th>\n",
       "      <th>id</th>\n",
       "      <th>week</th>\n",
       "      <th>center_id</th>\n",
       "      <th>meal_id</th>\n",
       "      <th>checkout_price</th>\n",
       "      <th>base_price</th>\n",
       "      <th>emailer_for_promotion</th>\n",
       "      <th>homepage_featured</th>\n",
       "    </tr>\n",
       "  </thead>\n",
       "  <tbody>\n",
       "    <tr>\n",
       "      <th>0</th>\n",
       "      <td>1028232</td>\n",
       "      <td>146</td>\n",
       "      <td>55</td>\n",
       "      <td>1885</td>\n",
       "      <td>158.11</td>\n",
       "      <td>159.11</td>\n",
       "      <td>0</td>\n",
       "      <td>0</td>\n",
       "    </tr>\n",
       "    <tr>\n",
       "      <th>1</th>\n",
       "      <td>1127204</td>\n",
       "      <td>146</td>\n",
       "      <td>55</td>\n",
       "      <td>1993</td>\n",
       "      <td>160.11</td>\n",
       "      <td>159.11</td>\n",
       "      <td>0</td>\n",
       "      <td>0</td>\n",
       "    </tr>\n",
       "    <tr>\n",
       "      <th>2</th>\n",
       "      <td>1212707</td>\n",
       "      <td>146</td>\n",
       "      <td>55</td>\n",
       "      <td>2539</td>\n",
       "      <td>157.14</td>\n",
       "      <td>159.14</td>\n",
       "      <td>0</td>\n",
       "      <td>0</td>\n",
       "    </tr>\n",
       "    <tr>\n",
       "      <th>3</th>\n",
       "      <td>1082698</td>\n",
       "      <td>146</td>\n",
       "      <td>55</td>\n",
       "      <td>2631</td>\n",
       "      <td>162.02</td>\n",
       "      <td>162.02</td>\n",
       "      <td>0</td>\n",
       "      <td>0</td>\n",
       "    </tr>\n",
       "    <tr>\n",
       "      <th>4</th>\n",
       "      <td>1400926</td>\n",
       "      <td>146</td>\n",
       "      <td>55</td>\n",
       "      <td>1248</td>\n",
       "      <td>163.93</td>\n",
       "      <td>163.93</td>\n",
       "      <td>0</td>\n",
       "      <td>0</td>\n",
       "    </tr>\n",
       "  </tbody>\n",
       "</table>\n",
       "</div>"
      ],
      "text/plain": [
       "        id  week  center_id  meal_id  checkout_price  base_price  \\\n",
       "0  1028232   146         55     1885          158.11      159.11   \n",
       "1  1127204   146         55     1993          160.11      159.11   \n",
       "2  1212707   146         55     2539          157.14      159.14   \n",
       "3  1082698   146         55     2631          162.02      162.02   \n",
       "4  1400926   146         55     1248          163.93      163.93   \n",
       "\n",
       "   emailer_for_promotion  homepage_featured  \n",
       "0                      0                  0  \n",
       "1                      0                  0  \n",
       "2                      0                  0  \n",
       "3                      0                  0  \n",
       "4                      0                  0  "
      ]
     },
     "execution_count": 52,
     "metadata": {},
     "output_type": "execute_result"
    }
   ],
   "source": [
    "test.head()"
   ]
  },
  {
   "cell_type": "code",
   "execution_count": 53,
   "metadata": {},
   "outputs": [
    {
     "data": {
      "text/plain": [
       "(456548, 9)"
      ]
     },
     "execution_count": 53,
     "metadata": {},
     "output_type": "execute_result"
    }
   ],
   "source": [
    "train.shape"
   ]
  },
  {
   "cell_type": "code",
   "execution_count": 54,
   "metadata": {},
   "outputs": [
    {
     "data": {
      "text/plain": [
       "(32573, 8)"
      ]
     },
     "execution_count": 54,
     "metadata": {},
     "output_type": "execute_result"
    }
   ],
   "source": [
    "test.shape"
   ]
  },
  {
   "cell_type": "code",
   "execution_count": 55,
   "metadata": {},
   "outputs": [
    {
     "data": {
      "text/plain": [
       "id                       0\n",
       "week                     0\n",
       "center_id                0\n",
       "meal_id                  0\n",
       "checkout_price           0\n",
       "base_price               0\n",
       "emailer_for_promotion    0\n",
       "homepage_featured        0\n",
       "num_orders               0\n",
       "dtype: int64"
      ]
     },
     "execution_count": 55,
     "metadata": {},
     "output_type": "execute_result"
    }
   ],
   "source": [
    "train.isnull().sum()"
   ]
  },
  {
   "cell_type": "code",
   "execution_count": 56,
   "metadata": {},
   "outputs": [
    {
     "data": {
      "text/html": [
       "<div>\n",
       "<style scoped>\n",
       "    .dataframe tbody tr th:only-of-type {\n",
       "        vertical-align: middle;\n",
       "    }\n",
       "\n",
       "    .dataframe tbody tr th {\n",
       "        vertical-align: top;\n",
       "    }\n",
       "\n",
       "    .dataframe thead th {\n",
       "        text-align: right;\n",
       "    }\n",
       "</style>\n",
       "<table border=\"1\" class=\"dataframe\">\n",
       "  <thead>\n",
       "    <tr style=\"text-align: right;\">\n",
       "      <th></th>\n",
       "      <th>center_id</th>\n",
       "      <th>city_code</th>\n",
       "      <th>region_code</th>\n",
       "      <th>center_type</th>\n",
       "      <th>op_area</th>\n",
       "    </tr>\n",
       "  </thead>\n",
       "  <tbody>\n",
       "    <tr>\n",
       "      <th>0</th>\n",
       "      <td>11</td>\n",
       "      <td>679</td>\n",
       "      <td>56</td>\n",
       "      <td>TYPE_A</td>\n",
       "      <td>3.7</td>\n",
       "    </tr>\n",
       "    <tr>\n",
       "      <th>1</th>\n",
       "      <td>13</td>\n",
       "      <td>590</td>\n",
       "      <td>56</td>\n",
       "      <td>TYPE_B</td>\n",
       "      <td>6.7</td>\n",
       "    </tr>\n",
       "    <tr>\n",
       "      <th>2</th>\n",
       "      <td>124</td>\n",
       "      <td>590</td>\n",
       "      <td>56</td>\n",
       "      <td>TYPE_C</td>\n",
       "      <td>4.0</td>\n",
       "    </tr>\n",
       "    <tr>\n",
       "      <th>3</th>\n",
       "      <td>66</td>\n",
       "      <td>648</td>\n",
       "      <td>34</td>\n",
       "      <td>TYPE_A</td>\n",
       "      <td>4.1</td>\n",
       "    </tr>\n",
       "    <tr>\n",
       "      <th>4</th>\n",
       "      <td>94</td>\n",
       "      <td>632</td>\n",
       "      <td>34</td>\n",
       "      <td>TYPE_C</td>\n",
       "      <td>3.6</td>\n",
       "    </tr>\n",
       "  </tbody>\n",
       "</table>\n",
       "</div>"
      ],
      "text/plain": [
       "   center_id  city_code  region_code center_type  op_area\n",
       "0         11        679           56      TYPE_A      3.7\n",
       "1         13        590           56      TYPE_B      6.7\n",
       "2        124        590           56      TYPE_C      4.0\n",
       "3         66        648           34      TYPE_A      4.1\n",
       "4         94        632           34      TYPE_C      3.6"
      ]
     },
     "execution_count": 56,
     "metadata": {},
     "output_type": "execute_result"
    }
   ],
   "source": [
    "#import centre dataset\n",
    "centreDF = pd.read_csv(\"center.csv\")\n",
    "centreDF.head()"
   ]
  },
  {
   "cell_type": "code",
   "execution_count": 57,
   "metadata": {},
   "outputs": [],
   "source": [
    "#Prepare main dataset DF by mergeing centre dataset and Meal dataset\n",
    "train = pd.merge(train,centreDF, on=['center_id'])\n",
    "test = pd.merge(test,centreDF, on=['center_id'])"
   ]
  },
  {
   "cell_type": "code",
   "execution_count": 58,
   "metadata": {},
   "outputs": [
    {
     "data": {
      "text/html": [
       "<div>\n",
       "<style scoped>\n",
       "    .dataframe tbody tr th:only-of-type {\n",
       "        vertical-align: middle;\n",
       "    }\n",
       "\n",
       "    .dataframe tbody tr th {\n",
       "        vertical-align: top;\n",
       "    }\n",
       "\n",
       "    .dataframe thead th {\n",
       "        text-align: right;\n",
       "    }\n",
       "</style>\n",
       "<table border=\"1\" class=\"dataframe\">\n",
       "  <thead>\n",
       "    <tr style=\"text-align: right;\">\n",
       "      <th></th>\n",
       "      <th>meal_id</th>\n",
       "      <th>category</th>\n",
       "      <th>cuisine</th>\n",
       "    </tr>\n",
       "  </thead>\n",
       "  <tbody>\n",
       "    <tr>\n",
       "      <th>0</th>\n",
       "      <td>1885</td>\n",
       "      <td>Beverages</td>\n",
       "      <td>Thai</td>\n",
       "    </tr>\n",
       "    <tr>\n",
       "      <th>1</th>\n",
       "      <td>1993</td>\n",
       "      <td>Beverages</td>\n",
       "      <td>Thai</td>\n",
       "    </tr>\n",
       "    <tr>\n",
       "      <th>2</th>\n",
       "      <td>2539</td>\n",
       "      <td>Beverages</td>\n",
       "      <td>Thai</td>\n",
       "    </tr>\n",
       "    <tr>\n",
       "      <th>3</th>\n",
       "      <td>1248</td>\n",
       "      <td>Beverages</td>\n",
       "      <td>Indian</td>\n",
       "    </tr>\n",
       "    <tr>\n",
       "      <th>4</th>\n",
       "      <td>2631</td>\n",
       "      <td>Beverages</td>\n",
       "      <td>Indian</td>\n",
       "    </tr>\n",
       "  </tbody>\n",
       "</table>\n",
       "</div>"
      ],
      "text/plain": [
       "   meal_id   category cuisine\n",
       "0     1885  Beverages    Thai\n",
       "1     1993  Beverages    Thai\n",
       "2     2539  Beverages    Thai\n",
       "3     1248  Beverages  Indian\n",
       "4     2631  Beverages  Indian"
      ]
     },
     "execution_count": 58,
     "metadata": {},
     "output_type": "execute_result"
    }
   ],
   "source": [
    "#import centre dataset\n",
    "mealDF = pd.read_csv(\"meal.csv\")\n",
    "mealDF.head()"
   ]
  },
  {
   "cell_type": "code",
   "execution_count": 59,
   "metadata": {},
   "outputs": [],
   "source": [
    "#Prepare main dataset DF by mergeing centre dataset and Meal dataset\n",
    "train = pd.merge(train,mealDF, on=['meal_id'])\n",
    "test = pd.merge(test,mealDF, on=['meal_id'])"
   ]
  },
  {
   "cell_type": "code",
   "execution_count": 60,
   "metadata": {},
   "outputs": [
    {
     "data": {
      "text/html": [
       "<div>\n",
       "<style scoped>\n",
       "    .dataframe tbody tr th:only-of-type {\n",
       "        vertical-align: middle;\n",
       "    }\n",
       "\n",
       "    .dataframe tbody tr th {\n",
       "        vertical-align: top;\n",
       "    }\n",
       "\n",
       "    .dataframe thead th {\n",
       "        text-align: right;\n",
       "    }\n",
       "</style>\n",
       "<table border=\"1\" class=\"dataframe\">\n",
       "  <thead>\n",
       "    <tr style=\"text-align: right;\">\n",
       "      <th></th>\n",
       "      <th>id</th>\n",
       "      <th>week</th>\n",
       "      <th>center_id</th>\n",
       "      <th>meal_id</th>\n",
       "      <th>checkout_price</th>\n",
       "      <th>base_price</th>\n",
       "      <th>emailer_for_promotion</th>\n",
       "      <th>homepage_featured</th>\n",
       "      <th>num_orders</th>\n",
       "      <th>city_code</th>\n",
       "      <th>region_code</th>\n",
       "      <th>center_type</th>\n",
       "      <th>op_area</th>\n",
       "      <th>category</th>\n",
       "      <th>cuisine</th>\n",
       "    </tr>\n",
       "  </thead>\n",
       "  <tbody>\n",
       "    <tr>\n",
       "      <th>0</th>\n",
       "      <td>1379560</td>\n",
       "      <td>1</td>\n",
       "      <td>55</td>\n",
       "      <td>1885</td>\n",
       "      <td>136.83</td>\n",
       "      <td>152.29</td>\n",
       "      <td>0</td>\n",
       "      <td>0</td>\n",
       "      <td>177</td>\n",
       "      <td>647</td>\n",
       "      <td>56</td>\n",
       "      <td>TYPE_C</td>\n",
       "      <td>2.0</td>\n",
       "      <td>Beverages</td>\n",
       "      <td>Thai</td>\n",
       "    </tr>\n",
       "    <tr>\n",
       "      <th>1</th>\n",
       "      <td>1018704</td>\n",
       "      <td>2</td>\n",
       "      <td>55</td>\n",
       "      <td>1885</td>\n",
       "      <td>135.83</td>\n",
       "      <td>152.29</td>\n",
       "      <td>0</td>\n",
       "      <td>0</td>\n",
       "      <td>323</td>\n",
       "      <td>647</td>\n",
       "      <td>56</td>\n",
       "      <td>TYPE_C</td>\n",
       "      <td>2.0</td>\n",
       "      <td>Beverages</td>\n",
       "      <td>Thai</td>\n",
       "    </tr>\n",
       "    <tr>\n",
       "      <th>2</th>\n",
       "      <td>1196273</td>\n",
       "      <td>3</td>\n",
       "      <td>55</td>\n",
       "      <td>1885</td>\n",
       "      <td>132.92</td>\n",
       "      <td>133.92</td>\n",
       "      <td>0</td>\n",
       "      <td>0</td>\n",
       "      <td>96</td>\n",
       "      <td>647</td>\n",
       "      <td>56</td>\n",
       "      <td>TYPE_C</td>\n",
       "      <td>2.0</td>\n",
       "      <td>Beverages</td>\n",
       "      <td>Thai</td>\n",
       "    </tr>\n",
       "    <tr>\n",
       "      <th>3</th>\n",
       "      <td>1116527</td>\n",
       "      <td>4</td>\n",
       "      <td>55</td>\n",
       "      <td>1885</td>\n",
       "      <td>135.86</td>\n",
       "      <td>134.86</td>\n",
       "      <td>0</td>\n",
       "      <td>0</td>\n",
       "      <td>163</td>\n",
       "      <td>647</td>\n",
       "      <td>56</td>\n",
       "      <td>TYPE_C</td>\n",
       "      <td>2.0</td>\n",
       "      <td>Beverages</td>\n",
       "      <td>Thai</td>\n",
       "    </tr>\n",
       "    <tr>\n",
       "      <th>4</th>\n",
       "      <td>1343872</td>\n",
       "      <td>5</td>\n",
       "      <td>55</td>\n",
       "      <td>1885</td>\n",
       "      <td>146.50</td>\n",
       "      <td>147.50</td>\n",
       "      <td>0</td>\n",
       "      <td>0</td>\n",
       "      <td>215</td>\n",
       "      <td>647</td>\n",
       "      <td>56</td>\n",
       "      <td>TYPE_C</td>\n",
       "      <td>2.0</td>\n",
       "      <td>Beverages</td>\n",
       "      <td>Thai</td>\n",
       "    </tr>\n",
       "  </tbody>\n",
       "</table>\n",
       "</div>"
      ],
      "text/plain": [
       "        id  week  center_id  meal_id  checkout_price  base_price  \\\n",
       "0  1379560     1         55     1885          136.83      152.29   \n",
       "1  1018704     2         55     1885          135.83      152.29   \n",
       "2  1196273     3         55     1885          132.92      133.92   \n",
       "3  1116527     4         55     1885          135.86      134.86   \n",
       "4  1343872     5         55     1885          146.50      147.50   \n",
       "\n",
       "   emailer_for_promotion  homepage_featured  num_orders  city_code  \\\n",
       "0                      0                  0         177        647   \n",
       "1                      0                  0         323        647   \n",
       "2                      0                  0          96        647   \n",
       "3                      0                  0         163        647   \n",
       "4                      0                  0         215        647   \n",
       "\n",
       "   region_code center_type  op_area   category cuisine  \n",
       "0           56      TYPE_C      2.0  Beverages    Thai  \n",
       "1           56      TYPE_C      2.0  Beverages    Thai  \n",
       "2           56      TYPE_C      2.0  Beverages    Thai  \n",
       "3           56      TYPE_C      2.0  Beverages    Thai  \n",
       "4           56      TYPE_C      2.0  Beverages    Thai  "
      ]
     },
     "execution_count": 60,
     "metadata": {},
     "output_type": "execute_result"
    }
   ],
   "source": [
    "train.head()"
   ]
  },
  {
   "cell_type": "code",
   "execution_count": 61,
   "metadata": {},
   "outputs": [
    {
     "data": {
      "text/html": [
       "<div>\n",
       "<style scoped>\n",
       "    .dataframe tbody tr th:only-of-type {\n",
       "        vertical-align: middle;\n",
       "    }\n",
       "\n",
       "    .dataframe tbody tr th {\n",
       "        vertical-align: top;\n",
       "    }\n",
       "\n",
       "    .dataframe thead th {\n",
       "        text-align: right;\n",
       "    }\n",
       "</style>\n",
       "<table border=\"1\" class=\"dataframe\">\n",
       "  <thead>\n",
       "    <tr style=\"text-align: right;\">\n",
       "      <th></th>\n",
       "      <th>id</th>\n",
       "      <th>week</th>\n",
       "      <th>center_id</th>\n",
       "      <th>meal_id</th>\n",
       "      <th>checkout_price</th>\n",
       "      <th>base_price</th>\n",
       "      <th>emailer_for_promotion</th>\n",
       "      <th>homepage_featured</th>\n",
       "      <th>city_code</th>\n",
       "      <th>region_code</th>\n",
       "      <th>center_type</th>\n",
       "      <th>op_area</th>\n",
       "      <th>category</th>\n",
       "      <th>cuisine</th>\n",
       "    </tr>\n",
       "  </thead>\n",
       "  <tbody>\n",
       "    <tr>\n",
       "      <th>0</th>\n",
       "      <td>1028232</td>\n",
       "      <td>146</td>\n",
       "      <td>55</td>\n",
       "      <td>1885</td>\n",
       "      <td>158.11</td>\n",
       "      <td>159.11</td>\n",
       "      <td>0</td>\n",
       "      <td>0</td>\n",
       "      <td>647</td>\n",
       "      <td>56</td>\n",
       "      <td>TYPE_C</td>\n",
       "      <td>2.0</td>\n",
       "      <td>Beverages</td>\n",
       "      <td>Thai</td>\n",
       "    </tr>\n",
       "    <tr>\n",
       "      <th>1</th>\n",
       "      <td>1262649</td>\n",
       "      <td>147</td>\n",
       "      <td>55</td>\n",
       "      <td>1885</td>\n",
       "      <td>159.11</td>\n",
       "      <td>159.11</td>\n",
       "      <td>0</td>\n",
       "      <td>0</td>\n",
       "      <td>647</td>\n",
       "      <td>56</td>\n",
       "      <td>TYPE_C</td>\n",
       "      <td>2.0</td>\n",
       "      <td>Beverages</td>\n",
       "      <td>Thai</td>\n",
       "    </tr>\n",
       "    <tr>\n",
       "      <th>2</th>\n",
       "      <td>1453211</td>\n",
       "      <td>149</td>\n",
       "      <td>55</td>\n",
       "      <td>1885</td>\n",
       "      <td>157.14</td>\n",
       "      <td>158.14</td>\n",
       "      <td>0</td>\n",
       "      <td>0</td>\n",
       "      <td>647</td>\n",
       "      <td>56</td>\n",
       "      <td>TYPE_C</td>\n",
       "      <td>2.0</td>\n",
       "      <td>Beverages</td>\n",
       "      <td>Thai</td>\n",
       "    </tr>\n",
       "    <tr>\n",
       "      <th>3</th>\n",
       "      <td>1262599</td>\n",
       "      <td>150</td>\n",
       "      <td>55</td>\n",
       "      <td>1885</td>\n",
       "      <td>159.14</td>\n",
       "      <td>157.14</td>\n",
       "      <td>0</td>\n",
       "      <td>0</td>\n",
       "      <td>647</td>\n",
       "      <td>56</td>\n",
       "      <td>TYPE_C</td>\n",
       "      <td>2.0</td>\n",
       "      <td>Beverages</td>\n",
       "      <td>Thai</td>\n",
       "    </tr>\n",
       "    <tr>\n",
       "      <th>4</th>\n",
       "      <td>1495848</td>\n",
       "      <td>151</td>\n",
       "      <td>55</td>\n",
       "      <td>1885</td>\n",
       "      <td>160.11</td>\n",
       "      <td>159.11</td>\n",
       "      <td>0</td>\n",
       "      <td>0</td>\n",
       "      <td>647</td>\n",
       "      <td>56</td>\n",
       "      <td>TYPE_C</td>\n",
       "      <td>2.0</td>\n",
       "      <td>Beverages</td>\n",
       "      <td>Thai</td>\n",
       "    </tr>\n",
       "  </tbody>\n",
       "</table>\n",
       "</div>"
      ],
      "text/plain": [
       "        id  week  center_id  meal_id  checkout_price  base_price  \\\n",
       "0  1028232   146         55     1885          158.11      159.11   \n",
       "1  1262649   147         55     1885          159.11      159.11   \n",
       "2  1453211   149         55     1885          157.14      158.14   \n",
       "3  1262599   150         55     1885          159.14      157.14   \n",
       "4  1495848   151         55     1885          160.11      159.11   \n",
       "\n",
       "   emailer_for_promotion  homepage_featured  city_code  region_code  \\\n",
       "0                      0                  0        647           56   \n",
       "1                      0                  0        647           56   \n",
       "2                      0                  0        647           56   \n",
       "3                      0                  0        647           56   \n",
       "4                      0                  0        647           56   \n",
       "\n",
       "  center_type  op_area   category cuisine  \n",
       "0      TYPE_C      2.0  Beverages    Thai  \n",
       "1      TYPE_C      2.0  Beverages    Thai  \n",
       "2      TYPE_C      2.0  Beverages    Thai  \n",
       "3      TYPE_C      2.0  Beverages    Thai  \n",
       "4      TYPE_C      2.0  Beverages    Thai  "
      ]
     },
     "execution_count": 61,
     "metadata": {},
     "output_type": "execute_result"
    }
   ],
   "source": [
    "test.head()"
   ]
  },
  {
   "cell_type": "code",
   "execution_count": 62,
   "metadata": {},
   "outputs": [
    {
     "data": {
      "text/html": [
       "<div>\n",
       "<style scoped>\n",
       "    .dataframe tbody tr th:only-of-type {\n",
       "        vertical-align: middle;\n",
       "    }\n",
       "\n",
       "    .dataframe tbody tr th {\n",
       "        vertical-align: top;\n",
       "    }\n",
       "\n",
       "    .dataframe thead th {\n",
       "        text-align: right;\n",
       "    }\n",
       "</style>\n",
       "<table border=\"1\" class=\"dataframe\">\n",
       "  <thead>\n",
       "    <tr style=\"text-align: right;\">\n",
       "      <th></th>\n",
       "      <th>id</th>\n",
       "      <th>week</th>\n",
       "      <th>center_id</th>\n",
       "      <th>meal_id</th>\n",
       "      <th>checkout_price</th>\n",
       "      <th>base_price</th>\n",
       "      <th>emailer_for_promotion</th>\n",
       "      <th>homepage_featured</th>\n",
       "      <th>num_orders</th>\n",
       "      <th>city_code</th>\n",
       "      <th>region_code</th>\n",
       "      <th>op_area</th>\n",
       "    </tr>\n",
       "  </thead>\n",
       "  <tbody>\n",
       "    <tr>\n",
       "      <th>count</th>\n",
       "      <td>4.565480e+05</td>\n",
       "      <td>456548.000000</td>\n",
       "      <td>456548.000000</td>\n",
       "      <td>456548.000000</td>\n",
       "      <td>456548.000000</td>\n",
       "      <td>456548.000000</td>\n",
       "      <td>456548.000000</td>\n",
       "      <td>456548.00000</td>\n",
       "      <td>456548.000000</td>\n",
       "      <td>456548.000000</td>\n",
       "      <td>456548.000000</td>\n",
       "      <td>456548.000000</td>\n",
       "    </tr>\n",
       "    <tr>\n",
       "      <th>mean</th>\n",
       "      <td>1.250096e+06</td>\n",
       "      <td>74.768771</td>\n",
       "      <td>82.105796</td>\n",
       "      <td>2024.337458</td>\n",
       "      <td>332.238933</td>\n",
       "      <td>354.156627</td>\n",
       "      <td>0.081152</td>\n",
       "      <td>0.10920</td>\n",
       "      <td>261.872760</td>\n",
       "      <td>601.553399</td>\n",
       "      <td>56.614566</td>\n",
       "      <td>4.083590</td>\n",
       "    </tr>\n",
       "    <tr>\n",
       "      <th>std</th>\n",
       "      <td>1.443548e+05</td>\n",
       "      <td>41.524956</td>\n",
       "      <td>45.975046</td>\n",
       "      <td>547.420920</td>\n",
       "      <td>152.939723</td>\n",
       "      <td>160.715914</td>\n",
       "      <td>0.273069</td>\n",
       "      <td>0.31189</td>\n",
       "      <td>395.922798</td>\n",
       "      <td>66.195914</td>\n",
       "      <td>17.641306</td>\n",
       "      <td>1.091686</td>\n",
       "    </tr>\n",
       "    <tr>\n",
       "      <th>min</th>\n",
       "      <td>1.000000e+06</td>\n",
       "      <td>1.000000</td>\n",
       "      <td>10.000000</td>\n",
       "      <td>1062.000000</td>\n",
       "      <td>2.970000</td>\n",
       "      <td>55.350000</td>\n",
       "      <td>0.000000</td>\n",
       "      <td>0.00000</td>\n",
       "      <td>13.000000</td>\n",
       "      <td>456.000000</td>\n",
       "      <td>23.000000</td>\n",
       "      <td>0.900000</td>\n",
       "    </tr>\n",
       "    <tr>\n",
       "      <th>25%</th>\n",
       "      <td>1.124999e+06</td>\n",
       "      <td>39.000000</td>\n",
       "      <td>43.000000</td>\n",
       "      <td>1558.000000</td>\n",
       "      <td>228.950000</td>\n",
       "      <td>243.500000</td>\n",
       "      <td>0.000000</td>\n",
       "      <td>0.00000</td>\n",
       "      <td>54.000000</td>\n",
       "      <td>553.000000</td>\n",
       "      <td>34.000000</td>\n",
       "      <td>3.600000</td>\n",
       "    </tr>\n",
       "    <tr>\n",
       "      <th>50%</th>\n",
       "      <td>1.250184e+06</td>\n",
       "      <td>76.000000</td>\n",
       "      <td>76.000000</td>\n",
       "      <td>1993.000000</td>\n",
       "      <td>296.820000</td>\n",
       "      <td>310.460000</td>\n",
       "      <td>0.000000</td>\n",
       "      <td>0.00000</td>\n",
       "      <td>136.000000</td>\n",
       "      <td>596.000000</td>\n",
       "      <td>56.000000</td>\n",
       "      <td>4.000000</td>\n",
       "    </tr>\n",
       "    <tr>\n",
       "      <th>75%</th>\n",
       "      <td>1.375140e+06</td>\n",
       "      <td>111.000000</td>\n",
       "      <td>110.000000</td>\n",
       "      <td>2539.000000</td>\n",
       "      <td>445.230000</td>\n",
       "      <td>458.870000</td>\n",
       "      <td>0.000000</td>\n",
       "      <td>0.00000</td>\n",
       "      <td>324.000000</td>\n",
       "      <td>651.000000</td>\n",
       "      <td>77.000000</td>\n",
       "      <td>4.500000</td>\n",
       "    </tr>\n",
       "    <tr>\n",
       "      <th>max</th>\n",
       "      <td>1.499999e+06</td>\n",
       "      <td>145.000000</td>\n",
       "      <td>186.000000</td>\n",
       "      <td>2956.000000</td>\n",
       "      <td>866.270000</td>\n",
       "      <td>866.270000</td>\n",
       "      <td>1.000000</td>\n",
       "      <td>1.00000</td>\n",
       "      <td>24299.000000</td>\n",
       "      <td>713.000000</td>\n",
       "      <td>93.000000</td>\n",
       "      <td>7.000000</td>\n",
       "    </tr>\n",
       "  </tbody>\n",
       "</table>\n",
       "</div>"
      ],
      "text/plain": [
       "                 id           week      center_id        meal_id  \\\n",
       "count  4.565480e+05  456548.000000  456548.000000  456548.000000   \n",
       "mean   1.250096e+06      74.768771      82.105796    2024.337458   \n",
       "std    1.443548e+05      41.524956      45.975046     547.420920   \n",
       "min    1.000000e+06       1.000000      10.000000    1062.000000   \n",
       "25%    1.124999e+06      39.000000      43.000000    1558.000000   \n",
       "50%    1.250184e+06      76.000000      76.000000    1993.000000   \n",
       "75%    1.375140e+06     111.000000     110.000000    2539.000000   \n",
       "max    1.499999e+06     145.000000     186.000000    2956.000000   \n",
       "\n",
       "       checkout_price     base_price  emailer_for_promotion  \\\n",
       "count   456548.000000  456548.000000          456548.000000   \n",
       "mean       332.238933     354.156627               0.081152   \n",
       "std        152.939723     160.715914               0.273069   \n",
       "min          2.970000      55.350000               0.000000   \n",
       "25%        228.950000     243.500000               0.000000   \n",
       "50%        296.820000     310.460000               0.000000   \n",
       "75%        445.230000     458.870000               0.000000   \n",
       "max        866.270000     866.270000               1.000000   \n",
       "\n",
       "       homepage_featured     num_orders      city_code    region_code  \\\n",
       "count       456548.00000  456548.000000  456548.000000  456548.000000   \n",
       "mean             0.10920     261.872760     601.553399      56.614566   \n",
       "std              0.31189     395.922798      66.195914      17.641306   \n",
       "min              0.00000      13.000000     456.000000      23.000000   \n",
       "25%              0.00000      54.000000     553.000000      34.000000   \n",
       "50%              0.00000     136.000000     596.000000      56.000000   \n",
       "75%              0.00000     324.000000     651.000000      77.000000   \n",
       "max              1.00000   24299.000000     713.000000      93.000000   \n",
       "\n",
       "             op_area  \n",
       "count  456548.000000  \n",
       "mean        4.083590  \n",
       "std         1.091686  \n",
       "min         0.900000  \n",
       "25%         3.600000  \n",
       "50%         4.000000  \n",
       "75%         4.500000  \n",
       "max         7.000000  "
      ]
     },
     "execution_count": 62,
     "metadata": {},
     "output_type": "execute_result"
    }
   ],
   "source": [
    "train.describe()"
   ]
  },
  {
   "cell_type": "code",
   "execution_count": 63,
   "metadata": {},
   "outputs": [
    {
     "data": {
      "text/plain": [
       "id                       0\n",
       "week                     0\n",
       "center_id                0\n",
       "meal_id                  0\n",
       "checkout_price           0\n",
       "base_price               0\n",
       "emailer_for_promotion    0\n",
       "homepage_featured        0\n",
       "num_orders               0\n",
       "city_code                0\n",
       "region_code              0\n",
       "center_type              0\n",
       "op_area                  0\n",
       "category                 0\n",
       "cuisine                  0\n",
       "dtype: int64"
      ]
     },
     "execution_count": 63,
     "metadata": {},
     "output_type": "execute_result"
    }
   ],
   "source": [
    "train.isnull().sum()"
   ]
  },
  {
   "cell_type": "code",
   "execution_count": 64,
   "metadata": {},
   "outputs": [
    {
     "data": {
      "text/plain": [
       "id                       0\n",
       "week                     0\n",
       "center_id                0\n",
       "meal_id                  0\n",
       "checkout_price           0\n",
       "base_price               0\n",
       "emailer_for_promotion    0\n",
       "homepage_featured        0\n",
       "city_code                0\n",
       "region_code              0\n",
       "center_type              0\n",
       "op_area                  0\n",
       "category                 0\n",
       "cuisine                  0\n",
       "dtype: int64"
      ]
     },
     "execution_count": 64,
     "metadata": {},
     "output_type": "execute_result"
    }
   ],
   "source": [
    "test.isnull().sum()"
   ]
  },
  {
   "cell_type": "code",
   "execution_count": 65,
   "metadata": {},
   "outputs": [
    {
     "data": {
      "text/plain": [
       "Index(['id', 'week', 'center_id', 'meal_id', 'checkout_price', 'base_price',\n",
       "       'emailer_for_promotion', 'homepage_featured', 'num_orders', 'city_code',\n",
       "       'region_code', 'center_type', 'op_area', 'category', 'cuisine'],\n",
       "      dtype='object')"
      ]
     },
     "execution_count": 65,
     "metadata": {},
     "output_type": "execute_result"
    }
   ],
   "source": [
    "train.columns"
   ]
  },
  {
   "cell_type": "code",
   "execution_count": 66,
   "metadata": {},
   "outputs": [
    {
     "name": "stdout",
     "output_type": "stream",
     "text": [
      "Unique values in  id  :  456548\n",
      "Unique values in  week  :  145\n",
      "Unique values in  center_id  :  77\n",
      "Unique values in  meal_id  :  51\n",
      "Unique values in  checkout_price  :  1992\n",
      "Unique values in  base_price  :  1907\n",
      "Unique values in  emailer_for_promotion  :  2\n",
      "Unique values in  homepage_featured  :  2\n",
      "Unique values in  num_orders  :  1250\n",
      "Unique values in  city_code  :  51\n",
      "Unique values in  region_code  :  8\n",
      "Unique values in  center_type  :  3\n",
      "Unique values in  op_area  :  30\n",
      "Unique values in  category  :  14\n",
      "Unique values in  cuisine  :  4\n"
     ]
    }
   ],
   "source": [
    "for col in train.columns:\n",
    "    print(\"Unique values in \",col,\" : \",train[col].nunique())"
   ]
  },
  {
   "cell_type": "code",
   "execution_count": 67,
   "metadata": {},
   "outputs": [
    {
     "name": "stdout",
     "output_type": "stream",
     "text": [
      "Unique values in  id  :  32573\n",
      "Unique values in  week  :  10\n",
      "Unique values in  center_id  :  77\n",
      "Unique values in  meal_id  :  51\n",
      "Unique values in  checkout_price  :  1397\n",
      "Unique values in  base_price  :  1179\n",
      "Unique values in  emailer_for_promotion  :  2\n",
      "Unique values in  homepage_featured  :  2\n",
      "Unique values in  city_code  :  51\n",
      "Unique values in  region_code  :  8\n",
      "Unique values in  center_type  :  3\n",
      "Unique values in  op_area  :  30\n",
      "Unique values in  category  :  14\n",
      "Unique values in  cuisine  :  4\n"
     ]
    }
   ],
   "source": [
    "for col in test.columns:\n",
    "    print(\"Unique values in \",col,\" : \",test[col].nunique())"
   ]
  },
  {
   "cell_type": "code",
   "execution_count": 68,
   "metadata": {},
   "outputs": [
    {
     "data": {
      "text/html": [
       "<div>\n",
       "<style scoped>\n",
       "    .dataframe tbody tr th:only-of-type {\n",
       "        vertical-align: middle;\n",
       "    }\n",
       "\n",
       "    .dataframe tbody tr th {\n",
       "        vertical-align: top;\n",
       "    }\n",
       "\n",
       "    .dataframe thead th {\n",
       "        text-align: right;\n",
       "    }\n",
       "</style>\n",
       "<table border=\"1\" class=\"dataframe\">\n",
       "  <thead>\n",
       "    <tr style=\"text-align: right;\">\n",
       "      <th></th>\n",
       "      <th>id</th>\n",
       "      <th>week</th>\n",
       "      <th>center_id</th>\n",
       "      <th>meal_id</th>\n",
       "      <th>checkout_price</th>\n",
       "      <th>base_price</th>\n",
       "      <th>emailer_for_promotion</th>\n",
       "      <th>homepage_featured</th>\n",
       "      <th>num_orders</th>\n",
       "      <th>city_code</th>\n",
       "      <th>region_code</th>\n",
       "      <th>op_area</th>\n",
       "    </tr>\n",
       "  </thead>\n",
       "  <tbody>\n",
       "    <tr>\n",
       "      <th>count</th>\n",
       "      <td>4.565480e+05</td>\n",
       "      <td>456548.000000</td>\n",
       "      <td>456548.000000</td>\n",
       "      <td>456548.000000</td>\n",
       "      <td>456548.000000</td>\n",
       "      <td>456548.000000</td>\n",
       "      <td>456548.000000</td>\n",
       "      <td>456548.00000</td>\n",
       "      <td>456548.000000</td>\n",
       "      <td>456548.000000</td>\n",
       "      <td>456548.000000</td>\n",
       "      <td>456548.000000</td>\n",
       "    </tr>\n",
       "    <tr>\n",
       "      <th>mean</th>\n",
       "      <td>1.250096e+06</td>\n",
       "      <td>74.768771</td>\n",
       "      <td>82.105796</td>\n",
       "      <td>2024.337458</td>\n",
       "      <td>332.238933</td>\n",
       "      <td>354.156627</td>\n",
       "      <td>0.081152</td>\n",
       "      <td>0.10920</td>\n",
       "      <td>261.872760</td>\n",
       "      <td>601.553399</td>\n",
       "      <td>56.614566</td>\n",
       "      <td>4.083590</td>\n",
       "    </tr>\n",
       "    <tr>\n",
       "      <th>std</th>\n",
       "      <td>1.443548e+05</td>\n",
       "      <td>41.524956</td>\n",
       "      <td>45.975046</td>\n",
       "      <td>547.420920</td>\n",
       "      <td>152.939723</td>\n",
       "      <td>160.715914</td>\n",
       "      <td>0.273069</td>\n",
       "      <td>0.31189</td>\n",
       "      <td>395.922798</td>\n",
       "      <td>66.195914</td>\n",
       "      <td>17.641306</td>\n",
       "      <td>1.091686</td>\n",
       "    </tr>\n",
       "    <tr>\n",
       "      <th>min</th>\n",
       "      <td>1.000000e+06</td>\n",
       "      <td>1.000000</td>\n",
       "      <td>10.000000</td>\n",
       "      <td>1062.000000</td>\n",
       "      <td>2.970000</td>\n",
       "      <td>55.350000</td>\n",
       "      <td>0.000000</td>\n",
       "      <td>0.00000</td>\n",
       "      <td>13.000000</td>\n",
       "      <td>456.000000</td>\n",
       "      <td>23.000000</td>\n",
       "      <td>0.900000</td>\n",
       "    </tr>\n",
       "    <tr>\n",
       "      <th>25%</th>\n",
       "      <td>1.124999e+06</td>\n",
       "      <td>39.000000</td>\n",
       "      <td>43.000000</td>\n",
       "      <td>1558.000000</td>\n",
       "      <td>228.950000</td>\n",
       "      <td>243.500000</td>\n",
       "      <td>0.000000</td>\n",
       "      <td>0.00000</td>\n",
       "      <td>54.000000</td>\n",
       "      <td>553.000000</td>\n",
       "      <td>34.000000</td>\n",
       "      <td>3.600000</td>\n",
       "    </tr>\n",
       "    <tr>\n",
       "      <th>50%</th>\n",
       "      <td>1.250184e+06</td>\n",
       "      <td>76.000000</td>\n",
       "      <td>76.000000</td>\n",
       "      <td>1993.000000</td>\n",
       "      <td>296.820000</td>\n",
       "      <td>310.460000</td>\n",
       "      <td>0.000000</td>\n",
       "      <td>0.00000</td>\n",
       "      <td>136.000000</td>\n",
       "      <td>596.000000</td>\n",
       "      <td>56.000000</td>\n",
       "      <td>4.000000</td>\n",
       "    </tr>\n",
       "    <tr>\n",
       "      <th>75%</th>\n",
       "      <td>1.375140e+06</td>\n",
       "      <td>111.000000</td>\n",
       "      <td>110.000000</td>\n",
       "      <td>2539.000000</td>\n",
       "      <td>445.230000</td>\n",
       "      <td>458.870000</td>\n",
       "      <td>0.000000</td>\n",
       "      <td>0.00000</td>\n",
       "      <td>324.000000</td>\n",
       "      <td>651.000000</td>\n",
       "      <td>77.000000</td>\n",
       "      <td>4.500000</td>\n",
       "    </tr>\n",
       "    <tr>\n",
       "      <th>max</th>\n",
       "      <td>1.499999e+06</td>\n",
       "      <td>145.000000</td>\n",
       "      <td>186.000000</td>\n",
       "      <td>2956.000000</td>\n",
       "      <td>866.270000</td>\n",
       "      <td>866.270000</td>\n",
       "      <td>1.000000</td>\n",
       "      <td>1.00000</td>\n",
       "      <td>24299.000000</td>\n",
       "      <td>713.000000</td>\n",
       "      <td>93.000000</td>\n",
       "      <td>7.000000</td>\n",
       "    </tr>\n",
       "  </tbody>\n",
       "</table>\n",
       "</div>"
      ],
      "text/plain": [
       "                 id           week      center_id        meal_id  \\\n",
       "count  4.565480e+05  456548.000000  456548.000000  456548.000000   \n",
       "mean   1.250096e+06      74.768771      82.105796    2024.337458   \n",
       "std    1.443548e+05      41.524956      45.975046     547.420920   \n",
       "min    1.000000e+06       1.000000      10.000000    1062.000000   \n",
       "25%    1.124999e+06      39.000000      43.000000    1558.000000   \n",
       "50%    1.250184e+06      76.000000      76.000000    1993.000000   \n",
       "75%    1.375140e+06     111.000000     110.000000    2539.000000   \n",
       "max    1.499999e+06     145.000000     186.000000    2956.000000   \n",
       "\n",
       "       checkout_price     base_price  emailer_for_promotion  \\\n",
       "count   456548.000000  456548.000000          456548.000000   \n",
       "mean       332.238933     354.156627               0.081152   \n",
       "std        152.939723     160.715914               0.273069   \n",
       "min          2.970000      55.350000               0.000000   \n",
       "25%        228.950000     243.500000               0.000000   \n",
       "50%        296.820000     310.460000               0.000000   \n",
       "75%        445.230000     458.870000               0.000000   \n",
       "max        866.270000     866.270000               1.000000   \n",
       "\n",
       "       homepage_featured     num_orders      city_code    region_code  \\\n",
       "count       456548.00000  456548.000000  456548.000000  456548.000000   \n",
       "mean             0.10920     261.872760     601.553399      56.614566   \n",
       "std              0.31189     395.922798      66.195914      17.641306   \n",
       "min              0.00000      13.000000     456.000000      23.000000   \n",
       "25%              0.00000      54.000000     553.000000      34.000000   \n",
       "50%              0.00000     136.000000     596.000000      56.000000   \n",
       "75%              0.00000     324.000000     651.000000      77.000000   \n",
       "max              1.00000   24299.000000     713.000000      93.000000   \n",
       "\n",
       "             op_area  \n",
       "count  456548.000000  \n",
       "mean        4.083590  \n",
       "std         1.091686  \n",
       "min         0.900000  \n",
       "25%         3.600000  \n",
       "50%         4.000000  \n",
       "75%         4.500000  \n",
       "max         7.000000  "
      ]
     },
     "execution_count": 68,
     "metadata": {},
     "output_type": "execute_result"
    }
   ],
   "source": [
    "train.describe()"
   ]
  },
  {
   "cell_type": "code",
   "execution_count": 69,
   "metadata": {},
   "outputs": [
    {
     "data": {
      "text/html": [
       "<div>\n",
       "<style scoped>\n",
       "    .dataframe tbody tr th:only-of-type {\n",
       "        vertical-align: middle;\n",
       "    }\n",
       "\n",
       "    .dataframe tbody tr th {\n",
       "        vertical-align: top;\n",
       "    }\n",
       "\n",
       "    .dataframe thead th {\n",
       "        text-align: right;\n",
       "    }\n",
       "</style>\n",
       "<table border=\"1\" class=\"dataframe\">\n",
       "  <thead>\n",
       "    <tr style=\"text-align: right;\">\n",
       "      <th></th>\n",
       "      <th>id</th>\n",
       "      <th>week</th>\n",
       "      <th>center_id</th>\n",
       "      <th>meal_id</th>\n",
       "      <th>checkout_price</th>\n",
       "      <th>base_price</th>\n",
       "      <th>emailer_for_promotion</th>\n",
       "      <th>homepage_featured</th>\n",
       "      <th>city_code</th>\n",
       "      <th>region_code</th>\n",
       "      <th>op_area</th>\n",
       "    </tr>\n",
       "  </thead>\n",
       "  <tbody>\n",
       "    <tr>\n",
       "      <th>count</th>\n",
       "      <td>3.257300e+04</td>\n",
       "      <td>32573.000000</td>\n",
       "      <td>32573.000000</td>\n",
       "      <td>32573.000000</td>\n",
       "      <td>32573.000000</td>\n",
       "      <td>32573.000000</td>\n",
       "      <td>32573.000000</td>\n",
       "      <td>32573.000000</td>\n",
       "      <td>32573.000000</td>\n",
       "      <td>32573.000000</td>\n",
       "      <td>32573.000000</td>\n",
       "    </tr>\n",
       "    <tr>\n",
       "      <th>mean</th>\n",
       "      <td>1.248476e+06</td>\n",
       "      <td>150.477819</td>\n",
       "      <td>81.901728</td>\n",
       "      <td>2032.067909</td>\n",
       "      <td>341.854440</td>\n",
       "      <td>356.493615</td>\n",
       "      <td>0.066435</td>\n",
       "      <td>0.081356</td>\n",
       "      <td>601.519971</td>\n",
       "      <td>56.712154</td>\n",
       "      <td>4.087726</td>\n",
       "    </tr>\n",
       "    <tr>\n",
       "      <th>std</th>\n",
       "      <td>1.441580e+05</td>\n",
       "      <td>2.864072</td>\n",
       "      <td>45.950455</td>\n",
       "      <td>547.199004</td>\n",
       "      <td>153.893886</td>\n",
       "      <td>155.150101</td>\n",
       "      <td>0.249045</td>\n",
       "      <td>0.273385</td>\n",
       "      <td>65.996677</td>\n",
       "      <td>17.641174</td>\n",
       "      <td>1.098835</td>\n",
       "    </tr>\n",
       "    <tr>\n",
       "      <th>min</th>\n",
       "      <td>1.000085e+06</td>\n",
       "      <td>146.000000</td>\n",
       "      <td>10.000000</td>\n",
       "      <td>1062.000000</td>\n",
       "      <td>67.900000</td>\n",
       "      <td>89.240000</td>\n",
       "      <td>0.000000</td>\n",
       "      <td>0.000000</td>\n",
       "      <td>456.000000</td>\n",
       "      <td>23.000000</td>\n",
       "      <td>0.900000</td>\n",
       "    </tr>\n",
       "    <tr>\n",
       "      <th>25%</th>\n",
       "      <td>1.123969e+06</td>\n",
       "      <td>148.000000</td>\n",
       "      <td>43.000000</td>\n",
       "      <td>1558.000000</td>\n",
       "      <td>214.430000</td>\n",
       "      <td>243.500000</td>\n",
       "      <td>0.000000</td>\n",
       "      <td>0.000000</td>\n",
       "      <td>556.000000</td>\n",
       "      <td>34.000000</td>\n",
       "      <td>3.600000</td>\n",
       "    </tr>\n",
       "    <tr>\n",
       "      <th>50%</th>\n",
       "      <td>1.247296e+06</td>\n",
       "      <td>150.000000</td>\n",
       "      <td>76.000000</td>\n",
       "      <td>1993.000000</td>\n",
       "      <td>320.130000</td>\n",
       "      <td>321.130000</td>\n",
       "      <td>0.000000</td>\n",
       "      <td>0.000000</td>\n",
       "      <td>596.000000</td>\n",
       "      <td>56.000000</td>\n",
       "      <td>4.000000</td>\n",
       "    </tr>\n",
       "    <tr>\n",
       "      <th>75%</th>\n",
       "      <td>1.372971e+06</td>\n",
       "      <td>153.000000</td>\n",
       "      <td>110.000000</td>\n",
       "      <td>2569.000000</td>\n",
       "      <td>446.230000</td>\n",
       "      <td>455.930000</td>\n",
       "      <td>0.000000</td>\n",
       "      <td>0.000000</td>\n",
       "      <td>651.000000</td>\n",
       "      <td>77.000000</td>\n",
       "      <td>4.500000</td>\n",
       "    </tr>\n",
       "    <tr>\n",
       "      <th>max</th>\n",
       "      <td>1.499996e+06</td>\n",
       "      <td>155.000000</td>\n",
       "      <td>186.000000</td>\n",
       "      <td>2956.000000</td>\n",
       "      <td>1113.620000</td>\n",
       "      <td>1112.620000</td>\n",
       "      <td>1.000000</td>\n",
       "      <td>1.000000</td>\n",
       "      <td>713.000000</td>\n",
       "      <td>93.000000</td>\n",
       "      <td>7.000000</td>\n",
       "    </tr>\n",
       "  </tbody>\n",
       "</table>\n",
       "</div>"
      ],
      "text/plain": [
       "                 id          week     center_id       meal_id  checkout_price  \\\n",
       "count  3.257300e+04  32573.000000  32573.000000  32573.000000    32573.000000   \n",
       "mean   1.248476e+06    150.477819     81.901728   2032.067909      341.854440   \n",
       "std    1.441580e+05      2.864072     45.950455    547.199004      153.893886   \n",
       "min    1.000085e+06    146.000000     10.000000   1062.000000       67.900000   \n",
       "25%    1.123969e+06    148.000000     43.000000   1558.000000      214.430000   \n",
       "50%    1.247296e+06    150.000000     76.000000   1993.000000      320.130000   \n",
       "75%    1.372971e+06    153.000000    110.000000   2569.000000      446.230000   \n",
       "max    1.499996e+06    155.000000    186.000000   2956.000000     1113.620000   \n",
       "\n",
       "         base_price  emailer_for_promotion  homepage_featured     city_code  \\\n",
       "count  32573.000000           32573.000000       32573.000000  32573.000000   \n",
       "mean     356.493615               0.066435           0.081356    601.519971   \n",
       "std      155.150101               0.249045           0.273385     65.996677   \n",
       "min       89.240000               0.000000           0.000000    456.000000   \n",
       "25%      243.500000               0.000000           0.000000    556.000000   \n",
       "50%      321.130000               0.000000           0.000000    596.000000   \n",
       "75%      455.930000               0.000000           0.000000    651.000000   \n",
       "max     1112.620000               1.000000           1.000000    713.000000   \n",
       "\n",
       "        region_code       op_area  \n",
       "count  32573.000000  32573.000000  \n",
       "mean      56.712154      4.087726  \n",
       "std       17.641174      1.098835  \n",
       "min       23.000000      0.900000  \n",
       "25%       34.000000      3.600000  \n",
       "50%       56.000000      4.000000  \n",
       "75%       77.000000      4.500000  \n",
       "max       93.000000      7.000000  "
      ]
     },
     "execution_count": 69,
     "metadata": {},
     "output_type": "execute_result"
    }
   ],
   "source": [
    "test.describe()"
   ]
  },
  {
   "cell_type": "code",
   "execution_count": 70,
   "metadata": {},
   "outputs": [],
   "source": [
    "train_df = train.drop(['id'], axis=1)\n",
    "test_df = test.drop(['id'], axis=1)"
   ]
  },
  {
   "cell_type": "code",
   "execution_count": 71,
   "metadata": {},
   "outputs": [],
   "source": [
    "num_vars = ['checkout_price','base_price','num_orders','week']"
   ]
  },
  {
   "cell_type": "code",
   "execution_count": 72,
   "metadata": {},
   "outputs": [],
   "source": [
    "cat_vars = [col for col in test_df.columns if col not in num_vars]"
   ]
  },
  {
   "cell_type": "code",
   "execution_count": 73,
   "metadata": {},
   "outputs": [],
   "source": [
    "def cat_enc_prob(df_train,df_test,variable):\n",
    "    \n",
    "    prob_df = df_train[variable].value_counts().to_dict()\n",
    "    df_train[variable] = df_train[variable].map(prob_df)\n",
    "    df_test[variable] = df_test[variable].map(prob_df)"
   ]
  },
  {
   "cell_type": "code",
   "execution_count": 74,
   "metadata": {},
   "outputs": [],
   "source": [
    "for col in cat_vars:\n",
    "    cat_enc_prob(train_df,test_df,col)"
   ]
  },
  {
   "cell_type": "code",
   "execution_count": 75,
   "metadata": {},
   "outputs": [
    {
     "data": {
      "text/html": [
       "<div>\n",
       "<style scoped>\n",
       "    .dataframe tbody tr th:only-of-type {\n",
       "        vertical-align: middle;\n",
       "    }\n",
       "\n",
       "    .dataframe tbody tr th {\n",
       "        vertical-align: top;\n",
       "    }\n",
       "\n",
       "    .dataframe thead th {\n",
       "        text-align: right;\n",
       "    }\n",
       "</style>\n",
       "<table border=\"1\" class=\"dataframe\">\n",
       "  <thead>\n",
       "    <tr style=\"text-align: right;\">\n",
       "      <th></th>\n",
       "      <th>week</th>\n",
       "      <th>center_id</th>\n",
       "      <th>meal_id</th>\n",
       "      <th>checkout_price</th>\n",
       "      <th>base_price</th>\n",
       "      <th>emailer_for_promotion</th>\n",
       "      <th>homepage_featured</th>\n",
       "      <th>num_orders</th>\n",
       "      <th>city_code</th>\n",
       "      <th>region_code</th>\n",
       "      <th>center_type</th>\n",
       "      <th>op_area</th>\n",
       "      <th>category</th>\n",
       "      <th>cuisine</th>\n",
       "    </tr>\n",
       "  </thead>\n",
       "  <tbody>\n",
       "    <tr>\n",
       "      <th>0</th>\n",
       "      <td>1</td>\n",
       "      <td>5146</td>\n",
       "      <td>11092</td>\n",
       "      <td>136.83</td>\n",
       "      <td>152.29</td>\n",
       "      <td>419498</td>\n",
       "      <td>406693</td>\n",
       "      <td>177</td>\n",
       "      <td>11833</td>\n",
       "      <td>191228</td>\n",
       "      <td>99593</td>\n",
       "      <td>9512</td>\n",
       "      <td>127890</td>\n",
       "      <td>118216</td>\n",
       "    </tr>\n",
       "    <tr>\n",
       "      <th>1</th>\n",
       "      <td>2</td>\n",
       "      <td>5146</td>\n",
       "      <td>11092</td>\n",
       "      <td>135.83</td>\n",
       "      <td>152.29</td>\n",
       "      <td>419498</td>\n",
       "      <td>406693</td>\n",
       "      <td>323</td>\n",
       "      <td>11833</td>\n",
       "      <td>191228</td>\n",
       "      <td>99593</td>\n",
       "      <td>9512</td>\n",
       "      <td>127890</td>\n",
       "      <td>118216</td>\n",
       "    </tr>\n",
       "    <tr>\n",
       "      <th>2</th>\n",
       "      <td>3</td>\n",
       "      <td>5146</td>\n",
       "      <td>11092</td>\n",
       "      <td>132.92</td>\n",
       "      <td>133.92</td>\n",
       "      <td>419498</td>\n",
       "      <td>406693</td>\n",
       "      <td>96</td>\n",
       "      <td>11833</td>\n",
       "      <td>191228</td>\n",
       "      <td>99593</td>\n",
       "      <td>9512</td>\n",
       "      <td>127890</td>\n",
       "      <td>118216</td>\n",
       "    </tr>\n",
       "    <tr>\n",
       "      <th>3</th>\n",
       "      <td>4</td>\n",
       "      <td>5146</td>\n",
       "      <td>11092</td>\n",
       "      <td>135.86</td>\n",
       "      <td>134.86</td>\n",
       "      <td>419498</td>\n",
       "      <td>406693</td>\n",
       "      <td>163</td>\n",
       "      <td>11833</td>\n",
       "      <td>191228</td>\n",
       "      <td>99593</td>\n",
       "      <td>9512</td>\n",
       "      <td>127890</td>\n",
       "      <td>118216</td>\n",
       "    </tr>\n",
       "    <tr>\n",
       "      <th>4</th>\n",
       "      <td>5</td>\n",
       "      <td>5146</td>\n",
       "      <td>11092</td>\n",
       "      <td>146.50</td>\n",
       "      <td>147.50</td>\n",
       "      <td>419498</td>\n",
       "      <td>406693</td>\n",
       "      <td>215</td>\n",
       "      <td>11833</td>\n",
       "      <td>191228</td>\n",
       "      <td>99593</td>\n",
       "      <td>9512</td>\n",
       "      <td>127890</td>\n",
       "      <td>118216</td>\n",
       "    </tr>\n",
       "  </tbody>\n",
       "</table>\n",
       "</div>"
      ],
      "text/plain": [
       "   week  center_id  meal_id  checkout_price  base_price  \\\n",
       "0     1       5146    11092          136.83      152.29   \n",
       "1     2       5146    11092          135.83      152.29   \n",
       "2     3       5146    11092          132.92      133.92   \n",
       "3     4       5146    11092          135.86      134.86   \n",
       "4     5       5146    11092          146.50      147.50   \n",
       "\n",
       "   emailer_for_promotion  homepage_featured  num_orders  city_code  \\\n",
       "0                 419498             406693         177      11833   \n",
       "1                 419498             406693         323      11833   \n",
       "2                 419498             406693          96      11833   \n",
       "3                 419498             406693         163      11833   \n",
       "4                 419498             406693         215      11833   \n",
       "\n",
       "   region_code  center_type  op_area  category  cuisine  \n",
       "0       191228        99593     9512    127890   118216  \n",
       "1       191228        99593     9512    127890   118216  \n",
       "2       191228        99593     9512    127890   118216  \n",
       "3       191228        99593     9512    127890   118216  \n",
       "4       191228        99593     9512    127890   118216  "
      ]
     },
     "execution_count": 75,
     "metadata": {},
     "output_type": "execute_result"
    }
   ],
   "source": [
    "train_df.head()"
   ]
  },
  {
   "cell_type": "code",
   "execution_count": 76,
   "metadata": {},
   "outputs": [
    {
     "data": {
      "text/html": [
       "<div>\n",
       "<style scoped>\n",
       "    .dataframe tbody tr th:only-of-type {\n",
       "        vertical-align: middle;\n",
       "    }\n",
       "\n",
       "    .dataframe tbody tr th {\n",
       "        vertical-align: top;\n",
       "    }\n",
       "\n",
       "    .dataframe thead th {\n",
       "        text-align: right;\n",
       "    }\n",
       "</style>\n",
       "<table border=\"1\" class=\"dataframe\">\n",
       "  <thead>\n",
       "    <tr style=\"text-align: right;\">\n",
       "      <th></th>\n",
       "      <th>week</th>\n",
       "      <th>center_id</th>\n",
       "      <th>meal_id</th>\n",
       "      <th>checkout_price</th>\n",
       "      <th>base_price</th>\n",
       "      <th>emailer_for_promotion</th>\n",
       "      <th>homepage_featured</th>\n",
       "      <th>city_code</th>\n",
       "      <th>region_code</th>\n",
       "      <th>center_type</th>\n",
       "      <th>op_area</th>\n",
       "      <th>category</th>\n",
       "      <th>cuisine</th>\n",
       "    </tr>\n",
       "  </thead>\n",
       "  <tbody>\n",
       "    <tr>\n",
       "      <th>0</th>\n",
       "      <td>146</td>\n",
       "      <td>5146</td>\n",
       "      <td>11092</td>\n",
       "      <td>158.11</td>\n",
       "      <td>159.11</td>\n",
       "      <td>419498</td>\n",
       "      <td>406693</td>\n",
       "      <td>11833</td>\n",
       "      <td>191228</td>\n",
       "      <td>99593</td>\n",
       "      <td>9512</td>\n",
       "      <td>127890</td>\n",
       "      <td>118216</td>\n",
       "    </tr>\n",
       "    <tr>\n",
       "      <th>1</th>\n",
       "      <td>147</td>\n",
       "      <td>5146</td>\n",
       "      <td>11092</td>\n",
       "      <td>159.11</td>\n",
       "      <td>159.11</td>\n",
       "      <td>419498</td>\n",
       "      <td>406693</td>\n",
       "      <td>11833</td>\n",
       "      <td>191228</td>\n",
       "      <td>99593</td>\n",
       "      <td>9512</td>\n",
       "      <td>127890</td>\n",
       "      <td>118216</td>\n",
       "    </tr>\n",
       "    <tr>\n",
       "      <th>2</th>\n",
       "      <td>149</td>\n",
       "      <td>5146</td>\n",
       "      <td>11092</td>\n",
       "      <td>157.14</td>\n",
       "      <td>158.14</td>\n",
       "      <td>419498</td>\n",
       "      <td>406693</td>\n",
       "      <td>11833</td>\n",
       "      <td>191228</td>\n",
       "      <td>99593</td>\n",
       "      <td>9512</td>\n",
       "      <td>127890</td>\n",
       "      <td>118216</td>\n",
       "    </tr>\n",
       "    <tr>\n",
       "      <th>3</th>\n",
       "      <td>150</td>\n",
       "      <td>5146</td>\n",
       "      <td>11092</td>\n",
       "      <td>159.14</td>\n",
       "      <td>157.14</td>\n",
       "      <td>419498</td>\n",
       "      <td>406693</td>\n",
       "      <td>11833</td>\n",
       "      <td>191228</td>\n",
       "      <td>99593</td>\n",
       "      <td>9512</td>\n",
       "      <td>127890</td>\n",
       "      <td>118216</td>\n",
       "    </tr>\n",
       "    <tr>\n",
       "      <th>4</th>\n",
       "      <td>151</td>\n",
       "      <td>5146</td>\n",
       "      <td>11092</td>\n",
       "      <td>160.11</td>\n",
       "      <td>159.11</td>\n",
       "      <td>419498</td>\n",
       "      <td>406693</td>\n",
       "      <td>11833</td>\n",
       "      <td>191228</td>\n",
       "      <td>99593</td>\n",
       "      <td>9512</td>\n",
       "      <td>127890</td>\n",
       "      <td>118216</td>\n",
       "    </tr>\n",
       "  </tbody>\n",
       "</table>\n",
       "</div>"
      ],
      "text/plain": [
       "   week  center_id  meal_id  checkout_price  base_price  \\\n",
       "0   146       5146    11092          158.11      159.11   \n",
       "1   147       5146    11092          159.11      159.11   \n",
       "2   149       5146    11092          157.14      158.14   \n",
       "3   150       5146    11092          159.14      157.14   \n",
       "4   151       5146    11092          160.11      159.11   \n",
       "\n",
       "   emailer_for_promotion  homepage_featured  city_code  region_code  \\\n",
       "0                 419498             406693      11833       191228   \n",
       "1                 419498             406693      11833       191228   \n",
       "2                 419498             406693      11833       191228   \n",
       "3                 419498             406693      11833       191228   \n",
       "4                 419498             406693      11833       191228   \n",
       "\n",
       "   center_type  op_area  category  cuisine  \n",
       "0        99593     9512    127890   118216  \n",
       "1        99593     9512    127890   118216  \n",
       "2        99593     9512    127890   118216  \n",
       "3        99593     9512    127890   118216  \n",
       "4        99593     9512    127890   118216  "
      ]
     },
     "execution_count": 76,
     "metadata": {},
     "output_type": "execute_result"
    }
   ],
   "source": [
    "test_df.head()"
   ]
  },
  {
   "cell_type": "code",
   "execution_count": 83,
   "metadata": {},
   "outputs": [
    {
     "data": {
      "text/plain": [
       "array(['week', 'center_id', 'meal_id', 'checkout_price', 'base_price',\n",
       "       'emailer_for_promotion', 'homepage_featured', 'num_orders',\n",
       "       'city_code', 'region_code', 'center_type', 'op_area', 'category',\n",
       "       'cuisine'], dtype=object)"
      ]
     },
     "execution_count": 83,
     "metadata": {},
     "output_type": "execute_result"
    }
   ],
   "source": [
    "train_columns = train_df.columns.values\n",
    "train_columns"
   ]
  },
  {
   "cell_type": "code",
   "execution_count": 84,
   "metadata": {},
   "outputs": [
    {
     "data": {
      "text/plain": [
       "array(['week', 'center_id', 'meal_id', 'checkout_price', 'base_price',\n",
       "       'emailer_for_promotion', 'homepage_featured', 'city_code',\n",
       "       'region_code', 'center_type', 'op_area', 'category', 'cuisine'],\n",
       "      dtype=object)"
      ]
     },
     "execution_count": 84,
     "metadata": {},
     "output_type": "execute_result"
    }
   ],
   "source": [
    "test_columns = test_df.columns.values\n",
    "test_columns"
   ]
  },
  {
   "cell_type": "code",
   "execution_count": 72,
   "metadata": {},
   "outputs": [],
   "source": [
    "#train_df = pd.get_dummies(train_df, drop_first=True, columns=['emailer_for_promotion','homepage_featured'])\n",
    "#test_df = pd.get_dummies(test, drop_first=True, columns=['emailer_for_promotion','homepage_featured'])"
   ]
  },
  {
   "cell_type": "code",
   "execution_count": 85,
   "metadata": {},
   "outputs": [],
   "source": [
    "X = train_df.drop(['num_orders'], axis=1).values\n",
    "y = train_df['num_orders'].values"
   ]
  },
  {
   "cell_type": "code",
   "execution_count": 100,
   "metadata": {},
   "outputs": [],
   "source": [
    "test = test_df.values"
   ]
  },
  {
   "cell_type": "code",
   "execution_count": 87,
   "metadata": {},
   "outputs": [],
   "source": [
    "X_train, X_test, y_train, y_test = train_test_split(X, y, \n",
    "                                                    test_size=0.3, \n",
    "                                                    random_state=101)"
   ]
  },
  {
   "cell_type": "code",
   "execution_count": 88,
   "metadata": {},
   "outputs": [],
   "source": [
    "# Feature Scaling\n",
    "from sklearn.preprocessing import StandardScaler, MinMaxScaler\n",
    "sc_X = StandardScaler()\n",
    "X_train = sc_X.fit_transform(X_train)"
   ]
  },
  {
   "cell_type": "code",
   "execution_count": 89,
   "metadata": {},
   "outputs": [],
   "source": [
    "meanX = sc_X.mean_\n",
    "varX = sc_X.var_"
   ]
  },
  {
   "cell_type": "code",
   "execution_count": 90,
   "metadata": {},
   "outputs": [
    {
     "data": {
      "text/plain": [
       "array([7.47457437e+01, 6.02206772e+03, 9.67362036e+03, 3.32034379e+02,\n",
       "       3.53954572e+02, 3.88379964e+05, 3.67721225e+05, 1.74554843e+04,\n",
       "       1.31762681e+05, 1.92542965e+05, 2.58639842e+04, 5.58226272e+04,\n",
       "       1.14637823e+05])"
      ]
     },
     "execution_count": 90,
     "metadata": {},
     "output_type": "execute_result"
    }
   ],
   "source": [
    "meanX"
   ]
  },
  {
   "cell_type": "code",
   "execution_count": 91,
   "metadata": {},
   "outputs": [
    {
     "data": {
      "text/plain": [
       "array([1.72637122e+03, 4.92988428e+05, 3.80953089e+06, 2.33906450e+04,\n",
       "       2.58130658e+04, 1.09326985e+10, 1.23878110e+10, 3.05077359e+08,\n",
       "       3.34007330e+09, 6.72937313e+09, 2.59534934e+08, 2.05241987e+09,\n",
       "       5.43077273e+07])"
      ]
     },
     "execution_count": 91,
     "metadata": {},
     "output_type": "execute_result"
    }
   ],
   "source": [
    "varX"
   ]
  },
  {
   "cell_type": "code",
   "execution_count": 92,
   "metadata": {},
   "outputs": [
    {
     "data": {
      "text/plain": [
       "array([[-1.5823427 , -0.18524699,  0.01607727, ..., -0.82283748,\n",
       "        -0.6208911 ,  1.12454236],\n",
       "       [-0.33082715, -0.44160928, -0.21857769, ...,  0.88242943,\n",
       "        -0.60179771,  1.12454236],\n",
       "       [-0.81217929,  0.95983791, -2.55744203, ...,  1.40713172,\n",
       "        -0.9328307 ,  0.48554675],\n",
       "       ...,\n",
       "       [-0.35489476, -0.18524699,  0.74719652, ..., -0.82283748,\n",
       "        -0.49734694,  1.12454236],\n",
       "       [-1.10099057, -0.05564161,  0.73182611, ..., -1.2340705 ,\n",
       "        -0.49734694,  1.12454236],\n",
       "       [ 0.00611934,  0.94701979, -0.70684444, ..., -0.01092385,\n",
       "        -0.6208911 ,  1.12454236]])"
      ]
     },
     "execution_count": 92,
     "metadata": {},
     "output_type": "execute_result"
    }
   ],
   "source": [
    "X_train"
   ]
  },
  {
   "cell_type": "code",
   "execution_count": 93,
   "metadata": {},
   "outputs": [
    {
     "data": {
      "text/plain": [
       "array([[-2.10489119e-01,  1.09569647e-01,  7.41560707e-01, ...,\n",
       "        -9.11229305e-01,  1.59076338e+00,  1.12454236e+00],\n",
       "       [-1.07692296e+00,  9.88322608e-01, -2.80131923e+00, ...,\n",
       "        -8.22837485e-01, -9.52409704e-01,  4.85546748e-01],\n",
       "       [-1.38286299e-01,  5.22597781e-01, -3.25577107e+00, ...,\n",
       "        -8.33886462e-01, -1.00732803e+00, -1.60703158e+00],\n",
       "       ...,\n",
       "       [ 1.57051378e+00, -1.54254289e+00,  6.54974054e-01, ...,\n",
       "        -2.24073419e-02, -5.00724153e-01, -1.60703158e+00],\n",
       "       [ 1.35390532e+00,  1.27174536e+00, -1.27554968e+00, ...,\n",
       "        -3.21412538e-01, -7.77169925e-01, -2.74897383e-01],\n",
       "       [-1.58234270e+00, -4.28791163e-01,  1.21920238e-03, ...,\n",
       "        -1.56298603e-01, -5.85573845e-01, -2.74897383e-01]])"
      ]
     },
     "execution_count": 93,
     "metadata": {},
     "output_type": "execute_result"
    }
   ],
   "source": [
    "X_test = sc_X.transform(X_test)\n",
    "X_test"
   ]
  },
  {
   "cell_type": "code",
   "execution_count": 102,
   "metadata": {},
   "outputs": [
    {
     "data": {
      "text/plain": [
       "array([[ 1.71491942, -1.24772626,  0.72670264, ..., -1.01501521,\n",
       "         1.59076338,  0.48554675],\n",
       "       [ 1.73898703, -1.24772626,  0.72670264, ..., -1.01501521,\n",
       "         1.59076338,  0.48554675],\n",
       "       [ 1.78712224, -1.24772626,  0.72670264, ..., -1.01501521,\n",
       "         1.59076338,  0.48554675],\n",
       "       ...,\n",
       "       [ 1.78712224, -0.23794368, -3.74864895, ..., -0.01092385,\n",
       "        -1.00732803, -1.60703158],\n",
       "       [ 1.81118985, -0.23794368, -3.74864895, ..., -0.01092385,\n",
       "        -1.00732803, -1.60703158],\n",
       "       [ 1.85932506, -0.23794368, -3.74864895, ..., -0.01092385,\n",
       "        -1.00732803, -1.60703158]])"
      ]
     },
     "execution_count": 102,
     "metadata": {},
     "output_type": "execute_result"
    }
   ],
   "source": [
    "test = sc_X.transform(test)\n",
    "test"
   ]
  },
  {
   "cell_type": "code",
   "execution_count": 94,
   "metadata": {},
   "outputs": [
    {
     "data": {
      "text/plain": [
       "LinearRegression(copy_X=True, fit_intercept=True, n_jobs=-1, normalize=False)"
      ]
     },
     "execution_count": 94,
     "metadata": {},
     "output_type": "execute_result"
    }
   ],
   "source": [
    "# Fitting Simple Linear Regression to the Training set\n",
    "from sklearn.linear_model import LinearRegression\n",
    "regressor = LinearRegression(n_jobs=-1)\n",
    "regressor.fit(X_train, y_train)"
   ]
  },
  {
   "cell_type": "code",
   "execution_count": 95,
   "metadata": {},
   "outputs": [],
   "source": [
    "b1 = regressor.coef_\n",
    "b0 = regressor.intercept_"
   ]
  },
  {
   "cell_type": "code",
   "execution_count": 96,
   "metadata": {},
   "outputs": [
    {
     "data": {
      "text/plain": [
       "array([  2.69532656,  92.39308297, 107.12434815, -70.91470738,\n",
       "       -64.13331091, -81.13677972, -71.90516478,  25.37962456,\n",
       "       -10.11021111, -16.41930221, -28.84993971, -58.5984442 ,\n",
       "       -11.85212463])"
      ]
     },
     "execution_count": 96,
     "metadata": {},
     "output_type": "execute_result"
    }
   ],
   "source": [
    "b1"
   ]
  },
  {
   "cell_type": "code",
   "execution_count": 97,
   "metadata": {},
   "outputs": [
    {
     "data": {
      "text/plain": [
       "262.0939818448529"
      ]
     },
     "execution_count": 97,
     "metadata": {},
     "output_type": "execute_result"
    }
   ],
   "source": [
    "b0"
   ]
  },
  {
   "cell_type": "code",
   "execution_count": 98,
   "metadata": {},
   "outputs": [
    {
     "data": {
      "text/plain": [
       "array([ 363.2161862 ,  142.8284251 , -275.79183892, ...,   -1.69297501,\n",
       "        178.63642025,  120.63034965])"
      ]
     },
     "execution_count": 98,
     "metadata": {},
     "output_type": "execute_result"
    }
   ],
   "source": [
    "# Predicting the Test set results\n",
    "y_pred = regressor.predict(X_test)\n",
    "y_pred"
   ]
  },
  {
   "cell_type": "code",
   "execution_count": 99,
   "metadata": {},
   "outputs": [
    {
     "name": "stdout",
     "output_type": "stream",
     "text": [
      "MSE:  114630.73941395256\n",
      "RMSE:  338.5716163737778\n"
     ]
    }
   ],
   "source": [
    "from sklearn.metrics import mean_squared_error\n",
    "mse = mean_squared_error(y_test,y_pred)\n",
    "print('MSE: ',mse)\n",
    "rmse = mse**0.5\n",
    "print('RMSE: ',rmse)"
   ]
  },
  {
   "cell_type": "code",
   "execution_count": null,
   "metadata": {},
   "outputs": [],
   "source": [
    "lr_results = regressor.predict()\n",
    "lr_results"
   ]
  },
  {
   "cell_type": "code",
   "execution_count": null,
   "metadata": {},
   "outputs": [],
   "source": [
    "test = sc_X.transform(test)\n",
    "test"
   ]
  },
  {
   "cell_type": "code",
   "execution_count": 103,
   "metadata": {},
   "outputs": [
    {
     "data": {
      "text/plain": [
       "array([ 268.7237837 ,  268.32497712,  269.75536045, ..., -399.96031169,\n",
       "       -399.89544163, -401.02772913])"
      ]
     },
     "execution_count": 103,
     "metadata": {},
     "output_type": "execute_result"
    }
   ],
   "source": [
    "lr_results = regressor.predict(test)\n",
    "lr_results"
   ]
  },
  {
   "cell_type": "code",
   "execution_count": 104,
   "metadata": {},
   "outputs": [
    {
     "data": {
      "text/plain": [
       "32573"
      ]
     },
     "execution_count": 104,
     "metadata": {},
     "output_type": "execute_result"
    }
   ],
   "source": [
    "len(lr_results)"
   ]
  },
  {
   "cell_type": "code",
   "execution_count": 105,
   "metadata": {},
   "outputs": [
    {
     "data": {
      "text/plain": [
       "(32573, 13)"
      ]
     },
     "execution_count": 105,
     "metadata": {},
     "output_type": "execute_result"
    }
   ],
   "source": [
    "test.shape"
   ]
  },
  {
   "cell_type": "markdown",
   "metadata": {},
   "source": [
    "# prepare submission file"
   ]
  },
  {
   "cell_type": "code",
   "execution_count": 107,
   "metadata": {},
   "outputs": [],
   "source": [
    "test_df['num_orders'] = lr_results"
   ]
  },
  {
   "cell_type": "code",
   "execution_count": 108,
   "metadata": {},
   "outputs": [],
   "source": [
    "subFood = pd.read_csv(\"Sub.csv\")"
   ]
  },
  {
   "cell_type": "code",
   "execution_count": 109,
   "metadata": {},
   "outputs": [
    {
     "ename": "IndexError",
     "evalue": "only integers, slices (`:`), ellipsis (`...`), numpy.newaxis (`None`) and integer or boolean arrays are valid indices",
     "output_type": "error",
     "traceback": [
      "\u001b[1;31m---------------------------------------------------------------------------\u001b[0m",
      "\u001b[1;31mIndexError\u001b[0m                                Traceback (most recent call last)",
      "\u001b[1;32m<ipython-input-109-1e5e4ca6debe>\u001b[0m in \u001b[0;36m<module>\u001b[1;34m\u001b[0m\n\u001b[1;32m----> 1\u001b[1;33m \u001b[0mre\u001b[0m \u001b[1;33m=\u001b[0m \u001b[0mpd\u001b[0m\u001b[1;33m.\u001b[0m\u001b[0mconcat\u001b[0m\u001b[1;33m(\u001b[0m\u001b[1;33m[\u001b[0m\u001b[0msubFood\u001b[0m\u001b[1;33m[\u001b[0m\u001b[1;34m'id'\u001b[0m\u001b[1;33m]\u001b[0m\u001b[1;33m,\u001b[0m\u001b[0mtest\u001b[0m\u001b[1;33m[\u001b[0m\u001b[1;34m'num_orders'\u001b[0m\u001b[1;33m]\u001b[0m\u001b[1;33m]\u001b[0m\u001b[1;33m,\u001b[0m \u001b[0maxis\u001b[0m\u001b[1;33m=\u001b[0m\u001b[1;36m1\u001b[0m\u001b[1;33m)\u001b[0m\u001b[1;33m\u001b[0m\u001b[1;33m\u001b[0m\u001b[0m\n\u001b[0m",
      "\u001b[1;31mIndexError\u001b[0m: only integers, slices (`:`), ellipsis (`...`), numpy.newaxis (`None`) and integer or boolean arrays are valid indices"
     ]
    }
   ],
   "source": [
    "re = pd.concat([subFood['id'],test['num_orders']], axis=1)"
   ]
  },
  {
   "cell_type": "code",
   "execution_count": 110,
   "metadata": {},
   "outputs": [],
   "source": [
    "#re['num_orders'].value_counts()"
   ]
  },
  {
   "cell_type": "code",
   "execution_count": 111,
   "metadata": {},
   "outputs": [
    {
     "ename": "NameError",
     "evalue": "name 're' is not defined",
     "output_type": "error",
     "traceback": [
      "\u001b[1;31m---------------------------------------------------------------------------\u001b[0m",
      "\u001b[1;31mNameError\u001b[0m                                 Traceback (most recent call last)",
      "\u001b[1;32m<ipython-input-111-5a33f3965aff>\u001b[0m in \u001b[0;36m<module>\u001b[1;34m\u001b[0m\n\u001b[1;32m----> 1\u001b[1;33m \u001b[0mre\u001b[0m\u001b[1;33m.\u001b[0m\u001b[0mhead\u001b[0m\u001b[1;33m(\u001b[0m\u001b[1;33m)\u001b[0m\u001b[1;33m\u001b[0m\u001b[1;33m\u001b[0m\u001b[0m\n\u001b[0m",
      "\u001b[1;31mNameError\u001b[0m: name 're' is not defined"
     ]
    }
   ],
   "source": [
    "re.head()"
   ]
  },
  {
   "cell_type": "code",
   "execution_count": 112,
   "metadata": {},
   "outputs": [
    {
     "ename": "NameError",
     "evalue": "name 're' is not defined",
     "output_type": "error",
     "traceback": [
      "\u001b[1;31m---------------------------------------------------------------------------\u001b[0m",
      "\u001b[1;31mNameError\u001b[0m                                 Traceback (most recent call last)",
      "\u001b[1;32m<ipython-input-112-6cc008f490cc>\u001b[0m in \u001b[0;36m<module>\u001b[1;34m\u001b[0m\n\u001b[1;32m----> 1\u001b[1;33m \u001b[0mre\u001b[0m\u001b[1;33m.\u001b[0m\u001b[0mto_csv\u001b[0m\u001b[1;33m(\u001b[0m\u001b[1;34m\"Food_lr.csv\"\u001b[0m\u001b[1;33m,\u001b[0m\u001b[0mindex\u001b[0m\u001b[1;33m=\u001b[0m\u001b[1;32mFalse\u001b[0m\u001b[1;33m)\u001b[0m\u001b[1;33m\u001b[0m\u001b[1;33m\u001b[0m\u001b[0m\n\u001b[0m",
      "\u001b[1;31mNameError\u001b[0m: name 're' is not defined"
     ]
    }
   ],
   "source": [
    "re.to_csv(\"Food_lr.csv\",index=False)"
   ]
  },
  {
   "cell_type": "code",
   "execution_count": null,
   "metadata": {},
   "outputs": [],
   "source": []
  }
 ],
 "metadata": {
  "kernelspec": {
   "display_name": "Python 3",
   "language": "python",
   "name": "python3"
  },
  "language_info": {
   "codemirror_mode": {
    "name": "ipython",
    "version": 3
   },
   "file_extension": ".py",
   "mimetype": "text/x-python",
   "name": "python",
   "nbconvert_exporter": "python",
   "pygments_lexer": "ipython3",
   "version": "3.7.3"
  }
 },
 "nbformat": 4,
 "nbformat_minor": 2
}
